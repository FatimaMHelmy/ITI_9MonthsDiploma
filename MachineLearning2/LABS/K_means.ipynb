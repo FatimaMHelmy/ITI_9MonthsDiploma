{
  "nbformat": 4,
  "nbformat_minor": 0,
  "metadata": {
    "colab": {
      "private_outputs": true,
      "provenance": [],
      "authorship_tag": "ABX9TyMEy16Mk44BOP/bMHlZK7Hn",
      "include_colab_link": true
    },
    "kernelspec": {
      "name": "python3",
      "display_name": "Python 3"
    },
    "language_info": {
      "name": "python"
    }
  },
  "cells": [
    {
      "cell_type": "markdown",
      "metadata": {
        "id": "view-in-github",
        "colab_type": "text"
      },
      "source": [
        "<a href=\"https://colab.research.google.com/github/FatimaMHelmy/ITI_9MonthsDiploma/blob/main/MachineLearning2/LABS/K_means.ipynb\" target=\"_parent\"><img src=\"https://colab.research.google.com/assets/colab-badge.svg\" alt=\"Open In Colab\"/></a>"
      ]
    },
    {
      "cell_type": "code",
      "execution_count": null,
      "metadata": {
        "id": "rL5cFSFIKb94"
      },
      "outputs": [],
      "source": [
        "import pandas as pd\n",
        "import numpy as np \n",
        "import matplotlib.pyplot as plt \n",
        "import random"
      ]
    },
    {
      "cell_type": "code",
      "source": [
        "np.random.seed(40)"
      ],
      "metadata": {
        "id": "ZLNCggO-LuOY"
      },
      "execution_count": null,
      "outputs": []
    },
    {
      "cell_type": "code",
      "source": [
        "data = np.random.rand(3,2)\n",
        "data"
      ],
      "metadata": {
        "id": "P6V11Qz1MTAH"
      },
      "execution_count": null,
      "outputs": []
    },
    {
      "cell_type": "code",
      "source": [
        "plt.scatter(data[:,0],data[:,1])"
      ],
      "metadata": {
        "id": "Mm7JmIz-MrYt"
      },
      "execution_count": null,
      "outputs": []
    },
    {
      "cell_type": "code",
      "source": [
        "## intialize the centers \n",
        "centers = random.choices(data , k=4)\n",
        "centers "
      ],
      "metadata": {
        "id": "a_yzudD9QRfG"
      },
      "execution_count": null,
      "outputs": []
    },
    {
      "cell_type": "code",
      "source": [
        "pointes_per_cluster = {0:[],\"B\":[],\"C\":[],\"D\":[]}\n"
      ],
      "metadata": {
        "id": "xeubxSmbi6cF"
      },
      "execution_count": null,
      "outputs": []
    },
    {
      "cell_type": "code",
      "source": [
        "flag = 0\n",
        "pointes_per_cluster = {0:np.array([]),1:np.array([]),2:np.array([]),3:np.array([])}\n",
        "#while flag ==0 :\n",
        "for i in range (data.shape[0]):\n",
        "  distance = list(map(lambda center : np.linalg.norm(data[i]-center),centers))\n",
        "  index = distance.index(min(distance)) \n",
        "  np.append(pointes_per_cluster[index],data[i].tolist())\n",
        "\n",
        "pointes_per_cluster\n"
      ],
      "metadata": {
        "id": "MpWYfMaDg3JV"
      },
      "execution_count": null,
      "outputs": []
    },
    {
      "cell_type": "code",
      "source": [
        "pointes_per_cluster[2]"
      ],
      "metadata": {
        "id": "yBop_eyqrRmZ"
      },
      "execution_count": null,
      "outputs": []
    },
    {
      "cell_type": "code",
      "source": [
        "np.array(pointes_per_cluster[2])[:,0]\n"
      ],
      "metadata": {
        "id": "Muk1TJCNp7Vk"
      },
      "execution_count": null,
      "outputs": []
    },
    {
      "cell_type": "code",
      "source": [
        "plt.scatter(np.array(pointes_per_cluster[2])[:,0],np.array(pointes_per_cluster[2])[:,1],c=\"g\")"
      ],
      "metadata": {
        "id": "JjqCp56Ohxzh"
      },
      "execution_count": null,
      "outputs": []
    },
    {
      "cell_type": "code",
      "source": [],
      "metadata": {
        "id": "Y8laGXStp3IH"
      },
      "execution_count": null,
      "outputs": []
    }
  ]
}